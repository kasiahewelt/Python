{
 "cells": [
  {
   "cell_type": "code",
   "execution_count": null,
   "metadata": {},
   "outputs": [],
   "source": [
    "import random\n",
    "\n",
    "x = int(input(\"How many numbers do you want to display?: \"))\n",
    "N = [random.randrange(0,13) for i in range(x)]\n",
    "print(N)"
   ]
  },
  {
   "cell_type": "code",
   "execution_count": null,
   "metadata": {},
   "outputs": [],
   "source": [
    "def find_pairs(arr, sum_number):\n",
    "    result = list()\n",
    "    arr.sort()\n",
    "    print(\"arr :\", arr)\n",
    "    \n",
    "    j_index =[]\n",
    "    \n",
    "    arr_length = len(arr)\n",
    "    for i in range(0, arr_length):\n",
    "        for j in range(i+1, len(arr)):\n",
    "            if j not in j_index and arr[i] + arr[j] == sum_number:\n",
    "                result.append([arr[i], arr[j]])\n",
    "                j_index.append(j)\n",
    "                break\n",
    "    return result\n",
    "\n",
    "result = find_pairs(N,12)\n",
    "print(\"result: \", result)"
   ]
  },
  {
   "cell_type": "code",
   "execution_count": 19,
   "metadata": {},
   "outputs": [
    {
     "name": "stdout",
     "output_type": "stream",
     "text": [
      "3\n"
     ]
    }
   ],
   "source": [
    "a = [1,2,4]\n",
    "def solution(a):\n",
    "    A = list(a)\n",
    "    ans = 1\n",
    "    while ans in A:\n",
    "       ans += 1\n",
    "    return ans\n",
    "\n",
    "print(solution(a))"
   ]
  },
  {
   "cell_type": "code",
   "execution_count": 20,
   "metadata": {},
   "outputs": [
    {
     "name": "stdout",
     "output_type": "stream",
     "text": [
      "1\n"
     ]
    }
   ],
   "source": [
    "a = [-1,-3]\n",
    "def solution(a):\n",
    "    A = set(a)\n",
    "    sorted_A = a.sort()\n",
    "    ans = 1\n",
    "    while ans in A:\n",
    "       ans += 1\n",
    "    return ans\n",
    "\n",
    "\n",
    "print(solution(a))"
   ]
  },
  {
   "cell_type": "code",
   "execution_count": 56,
   "metadata": {},
   "outputs": [
    {
     "name": "stdout",
     "output_type": "stream",
     "text": [
      "abrac\n"
     ]
    }
   ],
   "source": [
    "riddle = \"ab?ac\"\n",
    "\n",
    "result = riddle.replace('?', 'r')\n",
    "\n",
    "print(result)"
   ]
  },
  {
   "cell_type": "code",
   "execution_count": null,
   "metadata": {},
   "outputs": [],
   "source": [
    "riddle = \"ab?ac\"\n",
    "\n",
    "def solution(riddle):\n",
    "    N = len(riddle)\n",
    "    s = [' ']* (len(riddle))\n",
    "    for i in range(len(riddle)):\n",
    "        s[i] = riddle(i)\n",
    "    if (s[0] == '?'):\n",
    "        s[0] = 'a'\n",
    "        \n",
    "        if (s[0] == s[1]):\n",
    "            s[0] =chr(ord(s[0]) + 1)\n",
    "    for i in range (1, N-1):\n",
    "        if (s[i] == '?'):\n",
    "            s[i] = 'a'\n",
    "            "
   ]
  },
  {
   "cell_type": "code",
   "execution_count": 52,
   "metadata": {},
   "outputs": [
    {
     "name": "stdout",
     "output_type": "stream",
     "text": [
      "ababarrwe\n"
     ]
    }
   ],
   "source": [
    "riddle = \"ababa??we\"\n",
    "\n",
    "def solution(riddle):\n",
    "    if riddle == \"%??\":\n",
    "        print(riddle.replace('??', \"er\"))\n",
    "    else:\n",
    "        result = riddle.replace('?', \"r\")\n",
    "        return result\n",
    "\n",
    "\n",
    "print(solution(riddle))"
   ]
  },
  {
   "cell_type": "code",
   "execution_count": 62,
   "metadata": {},
   "outputs": [
    {
     "name": "stdout",
     "output_type": "stream",
     "text": [
      "ababarrwe\n"
     ]
    }
   ],
   "source": [
    "riddle = \"ababa??we\"\n",
    "\n",
    "def solution(riddle):\n",
    "    if riddle == \"?\" *(len(riddle)):\n",
    "        print(riddle.replace('??', \"er\"))\n",
    "    else:\n",
    "        result = riddle.replace('?', \"r\")\n",
    "        return result\n",
    "\n",
    "print(solution(riddle))"
   ]
  },
  {
   "cell_type": "code",
   "execution_count": null,
   "metadata": {},
   "outputs": [],
   "source": []
  }
 ],
 "metadata": {
  "kernelspec": {
   "display_name": "Python 3",
   "language": "python",
   "name": "python3"
  },
  "language_info": {
   "codemirror_mode": {
    "name": "ipython",
    "version": 3
   },
   "file_extension": ".py",
   "mimetype": "text/x-python",
   "name": "python",
   "nbconvert_exporter": "python",
   "pygments_lexer": "ipython3",
   "version": "3.8.5"
  }
 },
 "nbformat": 4,
 "nbformat_minor": 4
}
