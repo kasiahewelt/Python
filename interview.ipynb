{
 "cells": [
  {
   "cell_type": "code",
   "execution_count": 8,
   "metadata": {},
   "outputs": [
    {
     "name": "stdout",
     "output_type": "stream",
     "text": [
      "False\n"
     ]
    }
   ],
   "source": [
    "# krotka w krotce\n",
    "krotka1 = (3,4,5,100)\n",
    "krotka2 = (1,2,3,4,5,6,7,8,9)\n",
    "\n",
    "def czy_krotka(krotka1, krotka2):\n",
    "    licznik = 0\n",
    "    for el in krotka1:\n",
    "        if el in krotka2:\n",
    "            licznik+=1\n",
    "    if licznik == len(krotka1):\n",
    "        return True\n",
    "    else:\n",
    "        return False\n",
    "        \n",
    "print(czy_krotka(krotka1,krotka2))"
   ]
  },
  {
   "cell_type": "code",
   "execution_count": 22,
   "metadata": {},
   "outputs": [
    {
     "name": "stdout",
     "output_type": "stream",
     "text": [
      "Ala ma kota\n"
     ]
    }
   ],
   "source": [
    "# odwracanie wyrazow\n",
    "tekst = \"alA am atok\"\n",
    "\n",
    "tekst_odw=[]\n",
    "\n",
    "for wyraz in tekst.split():\n",
    "    tekst_odw.append(wyraz[::-1])\n",
    "    \n",
    "print(\" \".join(tekst_odw))\n"
   ]
  },
  {
   "cell_type": "code",
   "execution_count": 29,
   "metadata": {},
   "outputs": [
    {
     "name": "stdout",
     "output_type": "stream",
     "text": [
      "[1, 2, 5, 1, 0, 0, 0]\n"
     ]
    }
   ],
   "source": [
    "# przesuwanie zer\n",
    "\n",
    "lista = [1,2,0,0,5,0,1]\n",
    "\n",
    "def zera_na_prawo(lista):\n",
    "    for _ in range(lista.count(0)):\n",
    "        lista.append(lista.pop(lista.index(0)))\n",
    "        \n",
    "    \n",
    "zera_na_prawo(lista)\n",
    "print(lista)"
   ]
  },
  {
   "cell_type": "code",
   "execution_count": 30,
   "metadata": {},
   "outputs": [
    {
     "name": "stdout",
     "output_type": "stream",
     "text": [
      "Liczba przekazanych parametrów: 3\n",
      "Klucz: a Wartość: 1\n",
      "Klucz: b Wartość: 2\n",
      "Klucz: c Wartość: 3\n"
     ]
    }
   ],
   "source": [
    "def funk(**kwargs):\n",
    "    print(\"Liczba przekazanych parametrów:\",len(kwargs))\n",
    "    \n",
    "    for key, item in kwargs.items():\n",
    "        print (\"Klucz:\", key, \"Wartość:\", item)\n",
    "funk(a=1,b=2,c=3)\n"
   ]
  },
  {
   "cell_type": "code",
   "execution_count": 31,
   "metadata": {},
   "outputs": [
    {
     "data": {
      "text/plain": [
       "5"
      ]
     },
     "execution_count": 31,
     "metadata": {},
     "output_type": "execute_result"
    }
   ],
   "source": [
    "zmienna = lambda x,y: x+y\n",
    "zmienna(2,3)"
   ]
  },
  {
   "cell_type": "code",
   "execution_count": null,
   "metadata": {},
   "outputs": [],
   "source": [
    "#ciag fibonacciego\n",
    "\n",
    "liczba1 = 0\n",
    "liczba2 = 1\n",
    "wynik = 1\n",
    "while wynik < 100:\n",
    "    print(wynik)\n",
    "    wynik = liczba1 + liczba2\n",
    "    liczba1 = liczba2\n",
    "    liczba2 = wynik\n",
    "    "
   ]
  },
  {
   "cell_type": "code",
   "execution_count": null,
   "metadata": {},
   "outputs": [],
   "source": [
    "#FizzBuzz\n",
    "\n",
    "for i in range(1, 101):\n",
    "    if i % 3 == 0 and i % 5 == 0:\n",
    "        print(i,\"FizzBuzz\")\n",
    "    elif i % 3 == 0:\n",
    "        print(i,\"Fizz\")\n",
    "    elif i % 5 == 0:\n",
    "        print(i,\"Buzz\")"
   ]
  },
  {
   "cell_type": "code",
   "execution_count": null,
   "metadata": {},
   "outputs": [],
   "source": [
    "#choinka\n",
    "\n",
    "liczba = int(input(\"Podaj wysokość choinki: \"))\n",
    "\n",
    "for i in range(1, liczba + 1):\n",
    "    row = \" \" * (liczba - i) + \"M\" * (2 * i - 1)\n",
    "    print(row)"
   ]
  }
 ],
 "metadata": {
  "kernelspec": {
   "display_name": "Python 3",
   "language": "python",
   "name": "python3"
  },
  "language_info": {
   "codemirror_mode": {
    "name": "ipython",
    "version": 3
   },
   "file_extension": ".py",
   "mimetype": "text/x-python",
   "name": "python",
   "nbconvert_exporter": "python",
   "pygments_lexer": "ipython3",
   "version": "3.8.5"
  }
 },
 "nbformat": 4,
 "nbformat_minor": 4
}
